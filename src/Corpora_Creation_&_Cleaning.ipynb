{
  "nbformat": 4,
  "nbformat_minor": 0,
  "metadata": {
    "colab": {
      "name": "Corpora Creation  & Cleaning.ipynb",
      "provenance": []
    },
    "kernelspec": {
      "name": "python3",
      "display_name": "Python 3"
    }
  },
  "cells": [
    {
      "cell_type": "markdown",
      "metadata": {
        "id": "IZ2hg562vpcn",
        "colab_type": "text"
      },
      "source": [
        "***This notebook takes speaker data provided by the Accent Dataset, cleans and verifies it, and generates a `.tsv` file which can be passed on to the CorporaCreator. The CorporaCreator further processes the data and generates requisite data for train, test, and dev sets.***"
      ]
    },
    {
      "cell_type": "markdown",
      "metadata": {
        "id": "KiRawpwElzQz",
        "colab_type": "text"
      },
      "source": [
        "#### CONSTRUCTING TSV FILE"
      ]
    },
    {
      "cell_type": "code",
      "metadata": {
        "id": "jE7n1_RomGRj",
        "colab_type": "code",
        "colab": {}
      },
      "source": [
        "%cd /content/drive/My Drive/Accent\\ Data/recordings/recordings/\n",
        "!ls >> lsout.csv\n",
        "!mv lsout.csv /content/drive/My\\ Drive/Accent\\ Data/"
      ],
      "execution_count": null,
      "outputs": []
    },
    {
      "cell_type": "markdown",
      "metadata": {
        "id": "p7T8IfzhJOSp",
        "colab_type": "text"
      },
      "source": [
        "Reading the list into dataframe into `rec_list`, removing duplicates and non audio file entries."
      ]
    },
    {
      "cell_type": "code",
      "metadata": {
        "id": "Jnsa-mgnymJw",
        "colab_type": "code",
        "colab": {}
      },
      "source": [
        "%cd /content/drive/My\\ Drive/Accent\\ Data/\n",
        "rec_list = pd.read_csv('lsout.csv', names=['filename_merge'])\n",
        "rec_list.drop(rec_list.loc[rec_list['filename_merge']=='lsout.csv'].index, inplace=True)\n",
        "rec_list.drop_duplicates(inplace=True)"
      ],
      "execution_count": null,
      "outputs": []
    },
    {
      "cell_type": "markdown",
      "metadata": {
        "id": "ymTGeQQVJxDs",
        "colab_type": "text"
      },
      "source": [
        "Reading data file for Accent Data, preproceesing -> `file_speakers`"
      ]
    },
    {
      "cell_type": "code",
      "metadata": {
        "id": "XtdMBW9e1wkB",
        "colab_type": "code",
        "colab": {}
      },
      "source": [
        "## THIS SHOULD RUN ONLY ONCE\n",
        "speakers = pd.read_csv('/content/drive/My Drive/Accent Data/speakers_all.csv')\n",
        "#csv_read.to_csv('/content/speakers_tsv_all.tsv', sep='\\t', index=False)\n",
        "file_speakers = speakers[speakers['file_missing?']!=True]\n",
        "file_speakers['filename_merge'] = file_speakers['filename'] + \".mp3\""
      ],
      "execution_count": null,
      "outputs": []
    },
    {
      "cell_type": "markdown",
      "metadata": {
        "id": "9v2kPuUd62IZ",
        "colab_type": "text"
      },
      "source": [
        "Merge `rec_list` and `file_speakers`. Drop unnecessary columns."
      ]
    },
    {
      "cell_type": "code",
      "metadata": {
        "id": "7n-R68wsa2ua",
        "colab_type": "code",
        "colab": {}
      },
      "source": [
        "merge_audio_data = pd.merge(rec_list, file_speakers, on='filename_merge')\n",
        "\n",
        "audio_data = merge_audio_data.drop(['age_onset', 'birthplace', 'filename','country', 'file_missing?',\n",
        "       'Unnamed: 9', 'Unnamed: 10', 'Unnamed: 11'], axis=1)"
      ],
      "execution_count": null,
      "outputs": []
    },
    {
      "cell_type": "markdown",
      "metadata": {
        "id": "qeYh64H9KlUQ",
        "colab_type": "text"
      },
      "source": [
        "Add required columns, rename some columns."
      ]
    },
    {
      "cell_type": "code",
      "metadata": {
        "id": "zE9Biw-9AUm4",
        "colab_type": "code",
        "colab": {}
      },
      "source": [
        "#Still in Accent Data/\n",
        "\n",
        "with open('reading-passage.txt', 'r') as file:\n",
        "    sentence = file.read().replace('\\n', '')\n",
        "audio_data['sentence'] = re.sub(r'[^\\w\\s]','',sentence)\n",
        "audio_data['up_votes']=4\n",
        "audio_data['down_votes']=0\n",
        "audio_data['locale']=\"en\"\n",
        "audio_data['bucket']=\"\"\n",
        "audio_data.rename(columns={\"native_language\": \"accent\", \"filename_merge\": \"path\", \"sex\": \"gender\", \"speakerid\": \"client_id\"}, inplace = True)"
      ],
      "execution_count": null,
      "outputs": []
    },
    {
      "cell_type": "code",
      "metadata": {
        "id": "jzmrFU5nHXlf",
        "colab_type": "code",
        "colab": {
          "base_uri": "https://localhost:8080/",
          "height": 424
        },
        "outputId": "bad4d269-246a-43d6-fa1d-8e439af32137"
      },
      "source": [
        "audio_data.to_csv('clips.csv', sep='\\t', index = False) #Parse into a clips.csv file\n",
        "audio_data"
      ],
      "execution_count": null,
      "outputs": [
        {
          "output_type": "execute_result",
          "data": {
            "text/html": [
              "<div>\n",
              "<style scoped>\n",
              "    .dataframe tbody tr th:only-of-type {\n",
              "        vertical-align: middle;\n",
              "    }\n",
              "\n",
              "    .dataframe tbody tr th {\n",
              "        vertical-align: top;\n",
              "    }\n",
              "\n",
              "    .dataframe thead th {\n",
              "        text-align: right;\n",
              "    }\n",
              "</style>\n",
              "<table border=\"1\" class=\"dataframe\">\n",
              "  <thead>\n",
              "    <tr style=\"text-align: right;\">\n",
              "      <th></th>\n",
              "      <th>path</th>\n",
              "      <th>age</th>\n",
              "      <th>accent</th>\n",
              "      <th>gender</th>\n",
              "      <th>client_id</th>\n",
              "      <th>sentence</th>\n",
              "      <th>up_votes</th>\n",
              "      <th>down_votes</th>\n",
              "    </tr>\n",
              "  </thead>\n",
              "  <tbody>\n",
              "    <tr>\n",
              "      <th>0</th>\n",
              "      <td>afrikaans1.mp3</td>\n",
              "      <td>27.0</td>\n",
              "      <td>afrikaans</td>\n",
              "      <td>female</td>\n",
              "      <td>1</td>\n",
              "      <td>Please call Stella  Ask her to bring these thi...</td>\n",
              "      <td>4</td>\n",
              "      <td>0</td>\n",
              "    </tr>\n",
              "    <tr>\n",
              "      <th>1</th>\n",
              "      <td>afrikaans2.mp3</td>\n",
              "      <td>40.0</td>\n",
              "      <td>afrikaans</td>\n",
              "      <td>male</td>\n",
              "      <td>2</td>\n",
              "      <td>Please call Stella  Ask her to bring these thi...</td>\n",
              "      <td>4</td>\n",
              "      <td>0</td>\n",
              "    </tr>\n",
              "    <tr>\n",
              "      <th>2</th>\n",
              "      <td>afrikaans3.mp3</td>\n",
              "      <td>43.0</td>\n",
              "      <td>afrikaans</td>\n",
              "      <td>male</td>\n",
              "      <td>418</td>\n",
              "      <td>Please call Stella  Ask her to bring these thi...</td>\n",
              "      <td>4</td>\n",
              "      <td>0</td>\n",
              "    </tr>\n",
              "    <tr>\n",
              "      <th>3</th>\n",
              "      <td>afrikaans4.mp3</td>\n",
              "      <td>26.0</td>\n",
              "      <td>afrikaans</td>\n",
              "      <td>male</td>\n",
              "      <td>1159</td>\n",
              "      <td>Please call Stella  Ask her to bring these thi...</td>\n",
              "      <td>4</td>\n",
              "      <td>0</td>\n",
              "    </tr>\n",
              "    <tr>\n",
              "      <th>4</th>\n",
              "      <td>afrikaans5.mp3</td>\n",
              "      <td>19.0</td>\n",
              "      <td>afrikaans</td>\n",
              "      <td>male</td>\n",
              "      <td>1432</td>\n",
              "      <td>Please call Stella  Ask her to bring these thi...</td>\n",
              "      <td>4</td>\n",
              "      <td>0</td>\n",
              "    </tr>\n",
              "    <tr>\n",
              "      <th>...</th>\n",
              "      <td>...</td>\n",
              "      <td>...</td>\n",
              "      <td>...</td>\n",
              "      <td>...</td>\n",
              "      <td>...</td>\n",
              "      <td>...</td>\n",
              "      <td>...</td>\n",
              "      <td>...</td>\n",
              "    </tr>\n",
              "    <tr>\n",
              "      <th>2133</th>\n",
              "      <td>yoruba3.mp3</td>\n",
              "      <td>46.0</td>\n",
              "      <td>yoruba</td>\n",
              "      <td>female</td>\n",
              "      <td>766</td>\n",
              "      <td>Please call Stella  Ask her to bring these thi...</td>\n",
              "      <td>4</td>\n",
              "      <td>0</td>\n",
              "    </tr>\n",
              "    <tr>\n",
              "      <th>2134</th>\n",
              "      <td>yoruba4.mp3</td>\n",
              "      <td>46.0</td>\n",
              "      <td>yoruba</td>\n",
              "      <td>male</td>\n",
              "      <td>851</td>\n",
              "      <td>Please call Stella  Ask her to bring these thi...</td>\n",
              "      <td>4</td>\n",
              "      <td>0</td>\n",
              "    </tr>\n",
              "    <tr>\n",
              "      <th>2135</th>\n",
              "      <td>yoruba5.mp3</td>\n",
              "      <td>47.0</td>\n",
              "      <td>yoruba</td>\n",
              "      <td>female</td>\n",
              "      <td>2023</td>\n",
              "      <td>Please call Stella  Ask her to bring these thi...</td>\n",
              "      <td>4</td>\n",
              "      <td>0</td>\n",
              "    </tr>\n",
              "    <tr>\n",
              "      <th>2136</th>\n",
              "      <td>yupik1.mp3</td>\n",
              "      <td>31.0</td>\n",
              "      <td>yupik</td>\n",
              "      <td>female</td>\n",
              "      <td>571</td>\n",
              "      <td>Please call Stella  Ask her to bring these thi...</td>\n",
              "      <td>4</td>\n",
              "      <td>0</td>\n",
              "    </tr>\n",
              "    <tr>\n",
              "      <th>2137</th>\n",
              "      <td>zulu1.mp3</td>\n",
              "      <td>24.0</td>\n",
              "      <td>zulu</td>\n",
              "      <td>female</td>\n",
              "      <td>406</td>\n",
              "      <td>Please call Stella  Ask her to bring these thi...</td>\n",
              "      <td>4</td>\n",
              "      <td>0</td>\n",
              "    </tr>\n",
              "  </tbody>\n",
              "</table>\n",
              "<p>2138 rows × 8 columns</p>\n",
              "</div>"
            ],
            "text/plain": [
              "                path   age  ... up_votes down_votes\n",
              "0     afrikaans1.mp3  27.0  ...        4          0\n",
              "1     afrikaans2.mp3  40.0  ...        4          0\n",
              "2     afrikaans3.mp3  43.0  ...        4          0\n",
              "3     afrikaans4.mp3  26.0  ...        4          0\n",
              "4     afrikaans5.mp3  19.0  ...        4          0\n",
              "...              ...   ...  ...      ...        ...\n",
              "2133     yoruba3.mp3  46.0  ...        4          0\n",
              "2134     yoruba4.mp3  46.0  ...        4          0\n",
              "2135     yoruba5.mp3  47.0  ...        4          0\n",
              "2136      yupik1.mp3  31.0  ...        4          0\n",
              "2137       zulu1.mp3  24.0  ...        4          0\n",
              "\n",
              "[2138 rows x 8 columns]"
            ]
          },
          "metadata": {
            "tags": []
          },
          "execution_count": 86
        }
      ]
    },
    {
      "cell_type": "markdown",
      "metadata": {
        "id": "mmJ4Mn-ILgHv",
        "colab_type": "text"
      },
      "source": [
        "Pass the `clips.csv` file to CorporaCreator to generate required train, test, dev files."
      ]
    },
    {
      "cell_type": "code",
      "metadata": {
        "id": "I0ecK9zzQ6XC",
        "colab_type": "code",
        "colab": {}
      },
      "source": [
        "#In case oonversion from mp3 to wav is necessary\n",
        "\n",
        "i=c[1]\n",
        "src = str(i)\n",
        "dest = str(i).split(\".\")[0] + \".wav\"\n",
        "sound = AudioSegment.from_mp3(src)\n",
        "sound.export(dest,format=\"wav\")\n",
        "print(\"converting \",src,\"to \", dest)\n",
        "print(\"Converting \", dest, \" to proper format\")\n",
        "w = wave.open(dest, 'r')\n",
        "rate = w.getframerate()\n",
        "frames = w.getnframes()\n",
        "buffer = w.readframes(frames)\n",
        "print(rate, frames)\n",
        "#print(model.sampleRate())\n",
        "type(buffer)\n",
        "print(\"done\")"
      ],
      "execution_count": null,
      "outputs": []
    }
  ]
}